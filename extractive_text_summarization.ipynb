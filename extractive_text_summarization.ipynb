{
  "nbformat": 4,
  "nbformat_minor": 0,
  "metadata": {
    "colab": {
      "name": "extractive_text_summarization.ipynb",
      "provenance": []
    },
    "kernelspec": {
      "name": "python3",
      "display_name": "Python 3"
    },
    "language_info": {
      "name": "python"
    }
  },
  "cells": [
    {
      "cell_type": "code",
      "execution_count": null,
      "metadata": {
        "id": "2h9iBAfGSI-t"
      },
      "outputs": [],
      "source": [
        "#The following codes works for extractive summarization of text document\n",
        "#The main idea behind extractive type of summarization is to pick import words/sentences from the text document there are crucial/important to explain and elobarate the document in reduced form"
      ]
    },
    {
      "cell_type": "code",
      "source": [
        "# I am using the simplist form of text summrization wherein use sentence level extractive type summrization where top N sentences are picked with the help scores assigned by pagerank algorithm with the use of \n",
        "# similarity score between pairs of sentences\n",
        "# Just to elaborate more about the alogirthms and steps here."
      ],
      "metadata": {
        "id": "D29v6x5oTzux"
      },
      "execution_count": 19,
      "outputs": []
    },
    {
      "cell_type": "markdown",
      "source": [
        "## Textrank for extractive text summarization.\n",
        "1. The entire text in decomposed to sentences with sentence tokenizer and puntuations/special characeters are removed\n",
        "2. Stop words are removed while vectorizing the sentences to compute pair wise sentence similatities(lowercase sentences)\n",
        "3. Similarity scores calculations for all pairs are stored in an array and pagerank algorithm is used considering the initial scores of sentences as these similarity scores.\n",
        "4. pagerank algorithm internally iteratively computes the scores of each sentence and then manually pick top N sentences"
      ],
      "metadata": {
        "id": "I-I-8FoodtsW"
      }
    },
    {
      "cell_type": "markdown",
      "source": [
        "![textrank.png](data:image/png;base64,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)"
      ],
      "metadata": {
        "id": "jnmW-XxjePyh"
      }
    },
    {
      "cell_type": "markdown",
      "source": [
        "source: https://www.analyticsvidhya.com/blog/2018/11/introduction-text-summarization-textrank-python/"
      ],
      "metadata": {
        "id": "pArKgqh6ecgO"
      }
    },
    {
      "cell_type": "markdown",
      "source": [
        ""
      ],
      "metadata": {
        "id": "qw_KgSJbdpd2"
      }
    },
    {
      "cell_type": "code",
      "source": [
        "#importing the necessary packages\n",
        "\n",
        "from nltk.corpus import stopwords\n",
        "from nltk.cluster.util import cosine_distance\n",
        "from nltk.tokenize import sent_tokenize\n",
        "import numpy as np\n",
        "import re\n",
        "import nltk\n",
        "import networkx as nx"
      ],
      "metadata": {
        "id": "uq8SDWZRVZKp"
      },
      "execution_count": 44,
      "outputs": []
    },
    {
      "cell_type": "code",
      "source": [
        "def compute_similarity(sentence_1,sentence_2,stopwords=None):    \n",
        "  if stopwords is None:        \n",
        "    stopwords = []        \n",
        "  sentence_1 = [x.lower() for x in sentence_1]      #Converting the lowercase and appending\n",
        "  sentence_2 = [x.lower() for x in sentence_2]\n",
        "  words = list(set(sentence_1 + sentence_2))   #Making the list of all words in both sentences\n",
        "  a = [0 for _ in range(len(words))]     \n",
        "  b = [0 for _ in  range(len(words))]             \n",
        "  for i in sentence_1:        \n",
        "    if not i in stopwords:\n",
        "      a[words.index(i)] = 1 + a[words.index(i)]                                                              \n",
        "  for i in sentence_2:        \n",
        "    if not i in stopwords:            \n",
        "      b[words.index(i)] = 1+ b[words.index(i)]            \n",
        "  return 1-cosine_distance(a,b)   # computes coside distance between two vectors"
      ],
      "metadata": {
        "id": "0Y1cEuFkVo0Q"
      },
      "execution_count": 42,
      "outputs": []
    },
    {
      "cell_type": "code",
      "source": [
        "def pairwise_similarity(sent,stop_words):\n",
        "  #create an empty similarity matrix\n",
        "  sm = np.zeros((len(sent),len(sent)))\n",
        "  for i in range(len(sent)):\n",
        "      for j in range(len(sent)):\n",
        "        if i!=j:\n",
        "          sm[i][j] = compute_similarity(sent[i],sent[j],stop_words)\n",
        "  return sm"
      ],
      "metadata": {
        "id": "ZRcUNhR4VvRA"
      },
      "execution_count": 45,
      "outputs": []
    },
    {
      "cell_type": "code",
      "source": [
        "text='WASHINGTON - The Trump administration has ordered the military to start withdrawing roughly 7,000 troops from Afghanistan in the coming months, two defense officials said Thursday, an abrupt shift in the 17-year-old war there and a decision that stunned Afghan officials, who said they had not been briefed on the plans. President Trump made the decision to pull the troops - about half the number the United States has in Afghanistan now - at the same time he decided to pull American forces out of Syria, one official said. The announcement came hours after Jim Mattis, the secretary of defense, said that he would resign from his position at the end of February after disagreeing with the president over his approach to policy in the Middle East. The whirlwind of troop withdrawals and the resignation of Mr. Mattis leave a murky picture for what is next in the United States’ longest war, and they come as Afghanistan has been troubled by spasms of violence afflicting the capital, Kabul, and other important areas.  The United States has also been conducting talks with representatives of the Taliban, in what officials have described as discussions that could lead to formal talks to end the conflict. Senior Afghan officials and Western diplomats in Kabul woke up to the shock of the news on Friday morning, and many of them braced for chaos ahead.  Several Afghan officials, often in the loop on security planning and decision-making, said they had received no indication in recent days that the Americans would pull troops out.  The fear that Mr. Trump might take impulsive actions, however, often loomed in the background of discussions with the United States, they said. They saw the abrupt decision as a further sign that voices from the ground were lacking in the debate over the war and that with Mr. Mattis’s resignation, Afghanistan had lost one of the last influential voices in Washington who channeled the reality of the conflict into the White House’s deliberations. The president long campaigned on bringing troops home, but in 2017, at the request of Mr. Mattis, he begrudgingly pledged an additional 4,000 troops to the Afghan campaign to try to hasten an end to the conflict.'\n"
      ],
      "metadata": {
        "id": "Lbmh9KZZWHjD"
      },
      "execution_count": 16,
      "outputs": []
    },
    {
      "cell_type": "code",
      "source": [
        "list_of_sentences =[]  \n",
        "top_n=3      \n",
        "list_of_sentences = sent_tokenize(text)    \n",
        "for sent in list_of_sentences:        \n",
        "  sent.replace(\"[^a-zA-Z0-9]\",\" \")     #removes punctuations\n",
        "list_of_sentences"
      ],
      "metadata": {
        "colab": {
          "base_uri": "https://localhost:8080/"
        },
        "id": "_MKHH-GmYQGi",
        "outputId": "cda17f7e-d8f2-4390-a6b3-93a528886510"
      },
      "execution_count": 43,
      "outputs": [
        {
          "output_type": "execute_result",
          "data": {
            "text/plain": [
              "['WASHINGTON - The Trump administration has ordered the military to start withdrawing roughly 7,000 troops from Afghanistan in the coming months, two defense officials said Thursday, an abrupt shift in the 17-year-old war there and a decision that stunned Afghan officials, who said they had not been briefed on the plans.',\n",
              " 'President Trump made the decision to pull the troops - about half the number the United States has in Afghanistan now - at the same time he decided to pull American forces out of Syria, one official said.',\n",
              " 'The announcement came hours after Jim Mattis, the secretary of defense, said that he would resign from his position at the end of February after disagreeing with the president over his approach to policy in the Middle East.',\n",
              " 'The whirlwind of troop withdrawals and the resignation of Mr. Mattis leave a murky picture for what is next in the United States’ longest war, and they come as Afghanistan has been troubled by spasms of violence afflicting the capital, Kabul, and other important areas.',\n",
              " 'The United States has also been conducting talks with representatives of the Taliban, in what officials have described as discussions that could lead to formal talks to end the conflict.',\n",
              " 'Senior Afghan officials and Western diplomats in Kabul woke up to the shock of the news on Friday morning, and many of them braced for chaos ahead.',\n",
              " 'Several Afghan officials, often in the loop on security planning and decision-making, said they had received no indication in recent days that the Americans would pull troops out.',\n",
              " 'The fear that Mr. Trump might take impulsive actions, however, often loomed in the background of discussions with the United States, they said.',\n",
              " 'They saw the abrupt decision as a further sign that voices from the ground were lacking in the debate over the war and that with Mr. Mattis’s resignation, Afghanistan had lost one of the last influential voices in Washington who channeled the reality of the conflict into the White House’s deliberations.',\n",
              " 'The president long campaigned on bringing troops home, but in 2017, at the request of Mr. Mattis, he begrudgingly pledged an additional 4,000 troops to the Afghan campaign to try to hasten an end to the conflict.']"
            ]
          },
          "metadata": {},
          "execution_count": 43
        }
      ]
    },
    {
      "cell_type": "code",
      "source": [
        "nltk.download('stopwords')    \n",
        "nltk.download('punkt')\n",
        "stop_words = stopwords.words('english')               \n",
        "sm = pairwise_similarity(list_of_sentences,stop_words)\n",
        "similarity_graph = nx.from_numpy_array(sm)\n",
        "scores = nx.pagerank(similarity_graph)\n",
        "sentence_sorted = sorted(((scores[i],s) for i,s in enumerate(list_of_sentences)),reverse=True) #ranks sentences based on scores computed by pagerank\n",
        "extract=[]\n",
        "for i in range(top_n):          # returns the top n sentences where n is the parameter specified\n",
        "  extract.append(sentence_sorted[i][1])\n",
        "\" \".join(extract)"
      ],
      "metadata": {
        "colab": {
          "base_uri": "https://localhost:8080/",
          "height": 157
        },
        "id": "LRj06tw6fmfj",
        "outputId": "cd0b65c5-06e7-415e-c299-460c6e345157"
      },
      "execution_count": 46,
      "outputs": [
        {
          "output_type": "stream",
          "name": "stdout",
          "text": [
            "[nltk_data] Downloading package stopwords to /root/nltk_data...\n",
            "[nltk_data]   Package stopwords is already up-to-date!\n",
            "[nltk_data] Downloading package punkt to /root/nltk_data...\n",
            "[nltk_data]   Package punkt is already up-to-date!\n"
          ]
        },
        {
          "output_type": "execute_result",
          "data": {
            "text/plain": [
              "'The whirlwind of troop withdrawals and the resignation of Mr. Mattis leave a murky picture for what is next in the United States’ longest war, and they come as Afghanistan has been troubled by spasms of violence afflicting the capital, Kabul, and other important areas. They saw the abrupt decision as a further sign that voices from the ground were lacking in the debate over the war and that with Mr. Mattis’s resignation, Afghanistan had lost one of the last influential voices in Washington who channeled the reality of the conflict into the White House’s deliberations. President Trump made the decision to pull the troops - about half the number the United States has in Afghanistan now - at the same time he decided to pull American forces out of Syria, one official said.'"
            ],
            "application/vnd.google.colaboratory.intrinsic+json": {
              "type": "string"
            }
          },
          "metadata": {},
          "execution_count": 46
        }
      ]
    },
    {
      "cell_type": "code",
      "source": [
        ""
      ],
      "metadata": {
        "id": "hAl3uHcRhqGH"
      },
      "execution_count": null,
      "outputs": []
    }
  ]
}